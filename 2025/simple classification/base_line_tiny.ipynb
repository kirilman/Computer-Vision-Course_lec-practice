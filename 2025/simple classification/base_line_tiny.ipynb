{
 "cells": [
  {
   "cell_type": "markdown",
   "id": "9b738149",
   "metadata": {},
   "source": [
    "# Базовое решение задачи"
   ]
  },
  {
   "cell_type": "markdown",
   "id": "6434d253",
   "metadata": {},
   "source": [
    "## Импорт"
   ]
  },
  {
   "cell_type": "code",
   "execution_count": null,
   "id": "27846616",
   "metadata": {},
   "outputs": [],
   "source": [
    "import os\n",
    "from pathlib import Path\n",
    "from PIL import Image\n",
    "import numpy as np\n",
    "import pandas as pd\n",
    "import random\n",
    "import time\n",
    "import matplotlib.pyplot as plt\n",
    "\n",
    "from sklearn.preprocessing import LabelEncoder"
   ]
  },
  {
   "cell_type": "code",
   "execution_count": null,
   "id": "61330178",
   "metadata": {},
   "outputs": [],
   "source": [
    "import torch\n",
    "from torch.utils.data import Dataset\n",
    "import torch\n",
    "import torch.nn as nn\n",
    "import torch.nn.functional as F\n",
    "import torch.optim as optim"
   ]
  },
  {
   "cell_type": "code",
   "execution_count": null,
   "id": "483ff4eb",
   "metadata": {},
   "outputs": [],
   "source": [
    "import torchvision\n",
    "from torchvision import transforms"
   ]
  },
  {
   "cell_type": "code",
   "execution_count": null,
   "id": "defecefe",
   "metadata": {},
   "outputs": [],
   "source": [
    "# from torchinfo import summary\n",
    "from tqdm.notebook import tqdm, trange"
   ]
  },
  {
   "cell_type": "code",
   "execution_count": null,
   "id": "f415d680-ed0a-489e-9c40-c4953cdc281c",
   "metadata": {},
   "outputs": [],
   "source": [
    "torch.cuda.device_count()"
   ]
  },
  {
   "cell_type": "code",
   "execution_count": null,
   "id": "52fbe3b2",
   "metadata": {},
   "outputs": [],
   "source": [
    "def torch_stats(): \n",
    "    torch_version = \".\".join(torch.__version__.split(\".\")[:2])\n",
    "    print('torch version:',torch_version)\n",
    "    \n",
    "    device = torch.device('cuda' if torch.cuda.is_available() else 'cpu')\n",
    "    print('Using device:', device)\n",
    "    dtype = torch.float32\n",
    "    \n",
    "    if device.type == 'cuda':\n",
    "        cuda_version  = torch.__version__.split(\"+\")[-1]\n",
    "        print(\"cuda: \", cuda_version)\n",
    "        \n",
    "        torch.set_default_tensor_type(torch.cuda.FloatTensor)\n",
    "        print('Cuda is available:',torch.cuda.is_available())\n",
    "\n",
    "        n_devices = torch.cuda.device_count()\n",
    "        print('number of devices: %d'%(n_devices))\n",
    "        if n_devices > 0:\n",
    "            device = 'cuda:0'\n",
    "        for cnt_device in range(n_devices):\n",
    "            print(torch.cuda.get_device_name(cnt_device))\n",
    "            print('Memory Usage:')\n",
    "            print('Allocated:', round(torch.cuda.memory_allocated(cnt_device)/1024**3,1), 'GB')\n",
    "            print('Cached:   ', round(torch.cuda.memory_reserved(cnt_device)/1024**3,1), 'GB')\n",
    "\n",
    "\n",
    "    torch.set_default_dtype(dtype) # float32\n",
    "    print('default data type:',dtype)\n",
    "    \n",
    "    num_workers=os.cpu_count()\n",
    "    print ('available number of workers:',num_workers)\n",
    "    \n",
    "    return device, dtype, num_workers\n",
    "#-------------------------------\n",
    "def torch_seed(seed = 42, deterministic = True):\n",
    "    random.seed(seed) # random and transforms\n",
    "    np.random.seed(seed) #numpy\n",
    "    torch.manual_seed(seed) #cpu\n",
    "    torch.cuda.manual_seed(seed) #gpu\n",
    "    torch.backends.cudnn.deterministic=deterministic #cudnn "
   ]
  },
  {
   "cell_type": "code",
   "execution_count": null,
   "id": "e5501552",
   "metadata": {
    "scrolled": true
   },
   "outputs": [],
   "source": [
    "device, dtype, num_workers = torch_stats()\n",
    "torch_seed(seed = 42, deterministic = True)"
   ]
  },
  {
   "cell_type": "markdown",
   "id": "56edf880",
   "metadata": {},
   "source": [
    "## Загрузка набора данны "
   ]
  },
  {
   "cell_type": "code",
   "execution_count": null,
   "id": "362385d7",
   "metadata": {},
   "outputs": [],
   "source": [
    "from torchvision.datasets.utils import download_and_extract_archive"
   ]
  },
  {
   "cell_type": "code",
   "execution_count": null,
   "id": "25a866e4",
   "metadata": {
    "scrolled": true
   },
   "outputs": [],
   "source": [
    "# url = 'https://github.com/MVRonkin/Deep-Learning-Foundation-Course/raw/main/2024Light/ContestDataset.zip'\n",
    "# root_directory = os.path.join(os.getcwd(),'.')\n",
    "# download_and_extract_archive(url, root_directory)"
   ]
  },
  {
   "cell_type": "markdown",
   "id": "4e32fb9a",
   "metadata": {},
   "source": [
    "Созададим базовый набор преобразований для полносвязной сети. Удобно будет пользоваться одноканальными иозбражениями в градации серого."
   ]
  },
  {
   "cell_type": "code",
   "execution_count": null,
   "id": "f31fc264",
   "metadata": {},
   "outputs": [],
   "source": [
    "SIZE = (32,32)\n",
    "transform_ = lambda x: x.flatten()/255\n",
    "\n",
    "transform = transforms.Compose([\n",
    "    transforms.Resize(size=SIZE),\n",
    "    transforms.Grayscale(),\n",
    "    transforms.ToTensor(),\n",
    "    transform_,])"
   ]
  },
  {
   "cell_type": "markdown",
   "id": "37797322",
   "metadata": {},
   "source": [
    "Проверим содержание директории с данными. Содержение представляет собой:\n",
    "* `train` - директория с тренировочным набором данных;\n",
    "* `train.csv` - файл с описанием данных в формате `csv`;\n",
    "* `test` - директория с описанием закрытого тестового набора данных, результаты котрого будут оценены в соревновании;\n",
    "* `test.csv` - файл с описанием закрытого набора данных в формате `csv`;\n",
    "* `test_open` - директория с описанием открытого тестового набора данных, для самопроверки;\n",
    "* `test_open.csv` - файл с описанием открытого набора данных в формате `csv`;\n",
    "\n",
    "Файлы с открытам описанием данных представляют собой два столбца, сопоставляющих название файла и его метку. В закрытом наборе данных описание - это заданный порядок названий файлов без меток."
   ]
  },
  {
   "cell_type": "code",
   "execution_count": null,
   "id": "53c45478",
   "metadata": {
    "scrolled": true
   },
   "outputs": [],
   "source": [
    "path2data = 'ContestDataset'\n",
    "os.listdir(path2data)"
   ]
  },
  {
   "cell_type": "markdown",
   "id": "c6d58430",
   "metadata": {},
   "source": [
    "Дополнительно откроем каджый файл описания, чтобы убедиться что он имеет верный формат."
   ]
  },
  {
   "cell_type": "code",
   "execution_count": null,
   "id": "cd515757",
   "metadata": {
    "scrolled": true
   },
   "outputs": [],
   "source": [
    "csv = pd.read_csv(os.path.join(path2data,'train.csv'))\n",
    "csv.head(1)"
   ]
  },
  {
   "cell_type": "code",
   "execution_count": null,
   "id": "6674aec3",
   "metadata": {},
   "outputs": [],
   "source": [
    "csv = pd.read_csv(os.path.join(path2data,'test_open.csv'))\n",
    "csv.head(1)"
   ]
  },
  {
   "cell_type": "code",
   "execution_count": null,
   "id": "dcee89cc",
   "metadata": {
    "scrolled": true
   },
   "outputs": [],
   "source": [
    "csv = pd.read_csv(os.path.join('ContestDataset','test.csv'))\n",
    "csv.shape"
   ]
  },
  {
   "cell_type": "markdown",
   "id": "69c40eee",
   "metadata": {},
   "source": [
    "Можно заметить, что классы заданы их именами. Нам потребуется присвоить классам численные метки."
   ]
  },
  {
   "cell_type": "code",
   "execution_count": null,
   "id": "31b3af2c",
   "metadata": {},
   "outputs": [],
   "source": [
    "from sklearn.preprocessing import LabelEncoder\n",
    "le = LabelEncoder()\n",
    "csv = pd.read_csv(os.path.join('ContestDataset','test_open.csv'))\n",
    "print(np.unique(le.fit_transform(csv['class'])), csv['class'].unique() )"
   ]
  },
  {
   "cell_type": "code",
   "execution_count": null,
   "id": "32cc024e-c149-4010-ab17-45cc28653dcd",
   "metadata": {},
   "outputs": [],
   "source": [
    "le.inverse_transform(np.array((2,)))[0]"
   ]
  },
  {
   "cell_type": "markdown",
   "id": "849a1f91",
   "metadata": {},
   "source": [
    "Теперь создадим класс для работы с данными. Класс представляет собой типичный `Dataset class` `PyTorch`.\n",
    "\n",
    "Аргументы конструктора:\n",
    "* `image_dir` - путь к директории c изображениями;\n",
    "* `data_path` - путь к файлу с описанием изорбажений;\n",
    "* `transform` - набор преобразований изображения в формате `torchvision.transforms`;\n",
    "* `le` - заданный энкодер меток (Отметим, что тут мог бы быть более общий класс `target_transform`.\n",
    "\n",
    "Наиболее важной частью класса является метод `__getitem__`, позволяющий работать с экземплярами класса как со списком, обращаясь по индексу.  \n",
    "\n",
    "Метод возвращает пару `(x,y)`, где `x` - изображение, а `y` или метка, или название файла, если метки нет."
   ]
  },
  {
   "cell_type": "code",
   "execution_count": null,
   "id": "6aa05625",
   "metadata": {},
   "outputs": [],
   "source": [
    "class ContestDataset(Dataset):\n",
    "    def __init__(self, image_dir = 'train', data_path = 'train.csv', transform=None, le = False):\n",
    "        \n",
    "        self.image_dir = image_dir\n",
    "        \n",
    "        csv = pd.read_csv(data_path)      \n",
    "        \n",
    "        self.fnames = csv['file_name']        \n",
    "\n",
    "        self.transform = transform\n",
    "        \n",
    "        self.le = le\n",
    "        \n",
    "        if 'class' in csv.columns:\n",
    "            if self.le == False:\n",
    "                self.le = LabelEncoder()\n",
    "                self.le.fit(csv['class'])\n",
    "                \n",
    "            self.class_names = list(csv['class'].unique())                            \n",
    "            self.labels = self.le.transform(csv['class'])\n",
    "            self.labels_exist = True\n",
    "\n",
    "        else:\n",
    "            self.labels = None\n",
    "            self.labels_exist = False\n",
    "\n",
    "    \n",
    "    def __len__(self):\n",
    "        return len(self.fnames)\n",
    "\n",
    "    def __getitem__(self, idx):\n",
    "        img = Image.open(os.path.join(self.image_dir,self.fnames[idx]) ) \n",
    "#         img = np.asarray(img, dtype=float) \n",
    "\n",
    "        if self.transform:\n",
    "            img = self.transform(img)\n",
    "        \n",
    "        if self.labels_exist:\n",
    "            label = self.labels[idx] \n",
    "        else:\n",
    "            label = self.fnames[idx]\n",
    "\n",
    "        return img, label"
   ]
  },
  {
   "cell_type": "code",
   "execution_count": null,
   "id": "bb062229",
   "metadata": {},
   "outputs": [],
   "source": [
    "train_data =  ContestDataset(image_dir = os.path.join('ContestDataset','train'), \n",
    "                             data_path = os.path.join('ContestDataset','train.csv'),                              \n",
    "                             transform=transform, le = le)\n",
    "print(len(train_data))\n",
    "x,y = train_data[8]\n",
    "print(x.shape, y)\n",
    "plt.figure(figsize=(3,3));plt.imshow(x.reshape(*SIZE), cmap='gray'); plt.title('class: '+str(y)); plt.axis('off'); plt.show();"
   ]
  },
  {
   "cell_type": "code",
   "execution_count": null,
   "id": "eea0aad3",
   "metadata": {},
   "outputs": [],
   "source": [
    "test_data =  ContestDataset(image_dir = os.path.join('ContestDataset','test_open'), \n",
    "                            data_path = os.path.join('ContestDataset','test_open.csv'), \n",
    "                            transform=transform, le = le)\n",
    "\n",
    "print(len(test_data))\n",
    "x,y = test_data[8]\n",
    "print(x.shape)\n",
    "plt.figure(figsize=(3,3));plt.imshow(x.reshape(*SIZE), cmap='gray'); plt.title('test: '+str(y)); plt.axis('off'); plt.show();"
   ]
  },
  {
   "cell_type": "code",
   "execution_count": null,
   "id": "f21ecf26",
   "metadata": {},
   "outputs": [],
   "source": [
    "submit_data =  ContestDataset(image_dir = os.path.join('ContestDataset','test'), \n",
    "                              data_path = os.path.join('ContestDataset','test.csv'), \n",
    "                              transform=transform, le = le)\n",
    "\n",
    "print(len(submit_data))\n",
    "x, _ = submit_data[8]\n",
    "print(x.shape)\n",
    "plt.figure(figsize=(3,3));plt.imshow(x.reshape(*SIZE), cmap='gray'); plt.title('submit_data'); plt.axis('off'); plt.show();"
   ]
  },
  {
   "cell_type": "code",
   "execution_count": null,
   "id": "d34e3f27",
   "metadata": {
    "scrolled": true
   },
   "outputs": [],
   "source": [
    "fig, axs = plt.subplots(2,4, figsize=(12,4));\n",
    "\n",
    "x,y = train_data[0]\n",
    "\n",
    "print('TRAIN', len(train_data), 'shape', x.shape)\n",
    "for i,idx in enumerate(np.random.randint(0, len(train_data), 4)):  \n",
    "    x,y = train_data[idx]    \n",
    "    axs[0,i].imshow(x.reshape(*SIZE), cmap='gray'); \n",
    "    axs[0,i].axis('off'); \n",
    "    axs[0,i].set_title('class:'+str(y)); \n",
    "\n",
    "x, _ = submit_data[0]\n",
    "print('SUBMIT', len(submit_data), 'shape', x.shape)\n",
    "for i,idx in enumerate(np.random.randint(0, len(submit_data), 4)):  \n",
    "    x, _ = submit_data[idx]    \n",
    "    axs[1,i].imshow(x.reshape(*SIZE), cmap='gray'); \n",
    "    axs[1,i].axis('off'); \n",
    "    axs[1,i].set_title('test data'); \n",
    "\n",
    "plt.show();"
   ]
  },
  {
   "cell_type": "code",
   "execution_count": null,
   "id": "b1726576-49a0-4b82-9308-c9838df3a37c",
   "metadata": {},
   "outputs": [],
   "source": [
    "g = torch.Generator('cuda')  # ← Always CPU for random_split\n",
    "g.manual_seed(42)"
   ]
  },
  {
   "cell_type": "markdown",
   "id": "ec13cc73",
   "metadata": {},
   "source": [
    "## Выделение валидационной подвыборки"
   ]
  },
  {
   "cell_type": "code",
   "execution_count": null,
   "id": "d21c3c1e",
   "metadata": {
    "scrolled": true
   },
   "outputs": [],
   "source": [
    "TRAIN_RATIO = 0.8\n",
    "\n",
    "n_train_examples = int(len(train_data) * TRAIN_RATIO)\n",
    "n_valid_examples = len(train_data) - n_train_examples\n",
    "\n",
    "train_data, valid_data = torch.utils.data.random_split(train_data, [n_train_examples, n_valid_examples], generator=g)\n",
    "\n",
    "print(f\"Training data size : {len(train_data)}, Validation data size : {len(valid_data)}, Test data size : {len(test_data)}\")"
   ]
  },
  {
   "cell_type": "markdown",
   "id": "a833d9dc",
   "metadata": {},
   "source": [
    "## Создание загрузчика данных"
   ]
  },
  {
   "cell_type": "markdown",
   "id": "f549c12b",
   "metadata": {},
   "source": [
    "Обратите внимание что на текущий момент имеет место 4 набора данных, и соответственно создается 4 загрузчика данных:\n",
    "* `train_loader` - тренировочные данные;\n",
    "* `val_loader`   - валидационные данные;\n",
    "* `test_loader`  - тестовые данные (открытый тест для самопроверки);\n",
    "* `submit_loader` - тестовые данные для подачи (закрытый тест)."
   ]
  },
  {
   "cell_type": "code",
   "execution_count": null,
   "id": "53accc5f-facb-465d-b8ff-e890e0271c67",
   "metadata": {},
   "outputs": [],
   "source": [
    "g_loader = torch.Generator(device=device)  # Explicitly set to CPU\n",
    "g_loader.manual_seed(0)"
   ]
  },
  {
   "cell_type": "code",
   "execution_count": null,
   "id": "890a6cb3",
   "metadata": {},
   "outputs": [],
   "source": [
    "import torch.utils.data as data\n",
    "\n",
    "BATCH_SIZE = 64\n",
    "\n",
    "train_loader = data.DataLoader(train_data,\n",
    "                                 shuffle=True,\n",
    "                                 batch_size=BATCH_SIZE,\n",
    "                                 generator=g_loader)\n",
    "\n",
    "val_loader = data.DataLoader(valid_data,\n",
    "                                 batch_size=BATCH_SIZE,\n",
    "                                 generator=g_loader)\n",
    "\n",
    "test_loader = data.DataLoader(test_data,\n",
    "                                batch_size=BATCH_SIZE,\n",
    "                             generator=g_loader)\n",
    "\n",
    "\n",
    "submit_loader = data.DataLoader(submit_data,\n",
    "                                batch_size=BATCH_SIZE,\n",
    "                               generator=g_loader)\n",
    " \n",
    "print(f\"Training data batches : {len(train_loader)}, Validation data batches : {len(val_loader)}, Test data batches : {len(test_loader)}, Submit data batches : {len(test_loader)}\")"
   ]
  },
  {
   "cell_type": "code",
   "execution_count": null,
   "id": "e5b2c54f",
   "metadata": {},
   "outputs": [],
   "source": [
    "images, label =  next(iter(val_loader))\n",
    "images.shape, label.shape\n"
   ]
  },
  {
   "cell_type": "code",
   "execution_count": null,
   "id": "37fb8fc9",
   "metadata": {},
   "outputs": [],
   "source": [
    "images = images.reshape(-1,1,*SIZE)\n",
    "batch = torchvision.utils.make_grid(images, nrow = int(np.sqrt(images.shape[0])), padding = 0)\n",
    "vis_batch = batch.data.numpy().transpose((1, 2, 0))*255\n",
    "plt.imshow(vis_batch); \n",
    "plt.axis('off');\n",
    "plt.show()\n",
    "images.shape, batch.shape,  vis_batch.shape"
   ]
  },
  {
   "cell_type": "markdown",
   "id": "3fe9bc50",
   "metadata": {},
   "source": [
    "## Создание модели"
   ]
  },
  {
   "cell_type": "markdown",
   "id": "2b9e3022",
   "metadata": {},
   "source": [
    "В данном случае создадим базовую модель - ее результаты нужно исключительно для того, чтобы понять, что набор данных позволяет обучить какую то нейронную сеть и понять какие оценки точности могут считать минимально-достижимыми."
   ]
  },
  {
   "cell_type": "code",
   "execution_count": null,
   "id": "8a91a741",
   "metadata": {},
   "outputs": [],
   "source": [
    "class Model(nn.Module):\n",
    "    def __init__(self):\n",
    "        super().__init__()\n",
    "        self.fc1 = nn.Linear(SIZE[0]*SIZE[1], 256)\n",
    "        self.fc2 = nn.Linear(256, 128)\n",
    "        self.fc3 = nn.Linear(128, 128)\n",
    "        self.fc_out = nn.Linear(128, 11)\n",
    "\n",
    "    def forward(self, x):\n",
    "        x = F.relu(self.fc1(x))\n",
    "        x = F.relu(self.fc2(x))\n",
    "        x = F.relu(self.fc3(x)+ x) \n",
    "        x = self.fc_out(x)\n",
    "        return x\n",
    "        "
   ]
  },
  {
   "cell_type": "code",
   "execution_count": null,
   "id": "3a959342",
   "metadata": {
    "scrolled": true
   },
   "outputs": [],
   "source": [
    "model = Model()\n",
    "\n",
    "# summary(model,input_size =(1,SIZE[0]*SIZE[1]))"
   ]
  },
  {
   "cell_type": "markdown",
   "id": "285d3da5",
   "metadata": {},
   "source": [
    "## Функции для обучения"
   ]
  },
  {
   "cell_type": "markdown",
   "id": "6dd4bae4",
   "metadata": {},
   "source": [
    "Функции описывают минимальный рабочий вариант обучения и проверки качества работы нейронной сети."
   ]
  },
  {
   "cell_type": "code",
   "execution_count": null,
   "id": "ae7555e0",
   "metadata": {},
   "outputs": [],
   "source": [
    "def train(model, dataloader, optimizer, criterion, metric,  device):\n",
    "\n",
    "    epoch_loss = 0\n",
    "    epoch_acc  = 0\n",
    "\n",
    "    model.train()\n",
    "\n",
    "    for (x, y) in tqdm(dataloader, desc=\"Training\", leave=False):\n",
    "\n",
    "        x, y = x.to(device).float(), y.to(device).long()\n",
    "\n",
    "        optimizer.zero_grad(set_to_none = True)\n",
    "\n",
    "        y_pred = model(x)\n",
    "\n",
    "        loss = criterion(y_pred, y)\n",
    "        acc  = metric(y_pred, y)\n",
    "\n",
    "        loss.backward()\n",
    "        optimizer.step()\n",
    "\n",
    "        epoch_loss += loss.item()\n",
    "        epoch_acc  += acc.item()\n",
    "\n",
    "    return epoch_loss / len(dataloader), epoch_acc / len(dataloader)\n",
    "\n",
    "def evaluate(model, dataloader, criterion, metric, device):\n",
    "\n",
    "    epoch_loss = 0\n",
    "    epoch_acc  = 0\n",
    "\n",
    "    model.eval()\n",
    "\n",
    "    with torch.inference_mode():\n",
    "        \n",
    "        for (x, y) in tqdm(dataloader, desc=\"Evaluating\", leave=False):\n",
    "\n",
    "            x, y = x.to(device).float(), y.to(device).long()\n",
    "\n",
    "            y_pred = model.forward(x)\n",
    "            \n",
    "            loss = criterion(y_pred, y)\n",
    "            acc  = metric( y_pred, y)\n",
    "\n",
    "            epoch_loss += loss.item()\n",
    "            epoch_acc  += acc.item()\n",
    "\n",
    "    return epoch_loss / len(dataloader), epoch_acc / len(dataloader)\n",
    "\n",
    "def epoch_time(start_time, end_time):\n",
    "    elapsed_time = end_time - start_time\n",
    "    elapsed_mins = int(elapsed_time / 60)\n",
    "    elapsed_secs = int(elapsed_time - (elapsed_mins * 60))\n",
    "    return elapsed_mins, elapsed_secs\n",
    "\n",
    "EPOCHS = 100\n",
    "\n",
    "def fit(model, train_loader, val_loader, optimizer, criterion, metric, epochs = EPOCHS, device='cpu',  path_best = 'best_model.pt', verbose = True):\n",
    "\n",
    "   \n",
    "    best_valid_loss = float('inf')\n",
    "\n",
    "    for epoch in trange(epochs):\n",
    "\n",
    "        start_time = time.monotonic()\n",
    "\n",
    "        train_loss, train_acc = train(model, train_loader, optimizer, criterion, metric, device)\n",
    "        valid_loss, valid_acc = evaluate(model, val_loader, criterion, metric, device)\n",
    "\n",
    "        if valid_loss < best_valid_loss:\n",
    "            best_valid_loss = valid_loss\n",
    "            torch.save(model.state_dict(), path_best)\n",
    "\n",
    "        end_time = time.monotonic()\n",
    "\n",
    "        epoch_mins, epoch_secs = epoch_time(start_time, end_time)\n",
    "\n",
    "        if verbose == True:\n",
    "            print(f'Epoch: {epoch+1:02} | Epoch Time: {epoch_mins}m {epoch_secs}s')\n",
    "            print(f'\\tTrain Loss: {train_loss:.3f} | Train Acc: {train_acc*100:.2f}%',\n",
    "            f' | Val. Loss: {valid_loss:.3f} | Val. Acc: {valid_acc*100:.2f}%') \n"
   ]
  },
  {
   "cell_type": "markdown",
   "id": "26f761b3",
   "metadata": {},
   "source": [
    "## Инициализация и обучение модели"
   ]
  },
  {
   "cell_type": "markdown",
   "id": "41da0f47",
   "metadata": {},
   "source": [
    "Параметры специально не подбирались.\n",
    "\n",
    "В качестве метрики используется `accuracy` - так как в закрытом наборе качество работы будет также оцениваться по этой метрике."
   ]
  },
  {
   "cell_type": "code",
   "execution_count": null,
   "id": "2a9c6e6c-af65-4962-b107-c5b229c957c6",
   "metadata": {},
   "outputs": [],
   "source": [
    "device"
   ]
  },
  {
   "cell_type": "code",
   "execution_count": null,
   "id": "cab806f3",
   "metadata": {},
   "outputs": [],
   "source": [
    "model = Model()\n",
    "criterion = nn.CrossEntropyLoss()\n",
    "model = model.to(device)\n",
    "criterion = criterion.to(device)\n",
    "optimizer = optim.Adam(model.parameters(), lr = 5e-3)\n",
    "\n",
    "\n",
    "def calculate_accuracy(y_pred, y):\n",
    "    with torch.no_grad():\n",
    "        top_pred = y_pred.argmax(1, keepdim=True)\n",
    "        correct = top_pred.eq(y.view_as(top_pred)).sum()\n",
    "        acc = correct.float() / y.shape[0]\n",
    "    return acc\n",
    "\n",
    "metric = calculate_accuracy"
   ]
  },
  {
   "cell_type": "code",
   "execution_count": null,
   "id": "2cd6ece1",
   "metadata": {},
   "outputs": [],
   "source": [
    "fit(model, train_loader, val_loader, optimizer, criterion, metric, epochs = 100, device=device, verbose = True)"
   ]
  },
  {
   "cell_type": "markdown",
   "id": "3372680a",
   "metadata": {},
   "source": [
    "## Тест модели на лучшей эпохе"
   ]
  },
  {
   "cell_type": "code",
   "execution_count": null,
   "id": "3fa6e02f",
   "metadata": {},
   "outputs": [],
   "source": [
    "model.load_state_dict(torch.load('best_model.pt'))\n",
    "\n",
    "test_loss, test_acc = evaluate(model, test_loader, criterion, metric, device)\n",
    "\n",
    "print(f'Test Loss: {test_loss:.3f} | Test Acc: {test_acc*100:.2f}%')"
   ]
  },
  {
   "cell_type": "markdown",
   "id": "a64bbd14",
   "metadata": {},
   "source": [
    "## Создание файла для отправки"
   ]
  },
  {
   "cell_type": "markdown",
   "id": "6a6f39bb",
   "metadata": {},
   "source": [
    "Тут созадна специальная отдельная функция `submit` результат работы которой - это `DataFrame` с двумя колноками:\n",
    "* `file_name`\t- название файла из закрытого набора данных\n",
    "* `class` - предсказанная метка класса (в формате числа от 0 и выше)."
   ]
  },
  {
   "cell_type": "code",
   "execution_count": null,
   "id": "3e0987f4",
   "metadata": {},
   "outputs": [],
   "source": [
    "def submit(model, dataloader, device):\n",
    "\n",
    "    df = pd.DataFrame(columns = ('file_name','class'))\n",
    "    model.eval()\n",
    "\n",
    "    with torch.inference_mode():\n",
    "        \n",
    "        for x,y in tqdm(dataloader, desc=\"Evaluating\", leave=False):\n",
    "\n",
    "            x = x.to(device).float()\n",
    "            y_pred = model.forward(x)\n",
    "            if y_pred.is_cuda: \n",
    "                cls = list(y_pred.argmax(1, keepdim=False).data.cpu().numpy())\n",
    "            else:\n",
    "                cls = list(y_pred.argmax(1, keepdim=False).data.numpy())\n",
    "            cls_label = le.inverse_transform(np.array((cls)))[0]\n",
    "            df = pd.concat([df,pd.DataFrame({'file_name':y,'class':cls_label})], ignore_index = True)\n",
    "\n",
    "    return df.reset_index()"
   ]
  },
  {
   "cell_type": "code",
   "execution_count": null,
   "id": "da7769b0-58b4-49dc-94e1-660c5ddd0d30",
   "metadata": {},
   "outputs": [],
   "source": [
    "len(submit_data)"
   ]
  },
  {
   "cell_type": "code",
   "execution_count": null,
   "id": "073cc59a",
   "metadata": {},
   "outputs": [],
   "source": [
    "df = submit(model, submit_loader, device)"
   ]
  },
  {
   "cell_type": "code",
   "execution_count": null,
   "id": "98e34de9-909d-453a-96ef-b82d9efc1b4a",
   "metadata": {},
   "outputs": [],
   "source": [
    "df"
   ]
  },
  {
   "cell_type": "markdown",
   "id": "27927900",
   "metadata": {},
   "source": [
    "Сохраним результат.\n",
    "\n",
    "<code style=\"color:red\">__Большая просьба сохранять результат с указанием ФИО !__ </code>"
   ]
  },
  {
   "cell_type": "code",
   "execution_count": null,
   "id": "c882153e",
   "metadata": {},
   "outputs": [],
   "source": [
    "path_submit = 'submit.csv'\n",
    "\n",
    "df[['file_name','class']].to_csv(path_submit, index = False )\n",
    "print('FULL PATH:  \\n', os.path.join(os.getcwd(), path_submit) )"
   ]
  },
  {
   "cell_type": "markdown",
   "id": "fe89fa12",
   "metadata": {},
   "source": [
    "Проверка файла на открытие"
   ]
  },
  {
   "cell_type": "code",
   "execution_count": null,
   "id": "d6ec4105",
   "metadata": {},
   "outputs": [],
   "source": [
    "frame = pd.read_csv('submit.csv')"
   ]
  },
  {
   "cell_type": "code",
   "execution_count": null,
   "id": "2d534945-7574-4e88-958d-c082ef3376f5",
   "metadata": {},
   "outputs": [],
   "source": [
    "frame.groupby('class').count()"
   ]
  }
 ],
 "metadata": {
  "kernelspec": {
   "display_name": "Python 3 (ipykernel)",
   "language": "python",
   "name": "python3"
  },
  "language_info": {
   "codemirror_mode": {
    "name": "ipython",
    "version": 3
   },
   "file_extension": ".py",
   "mimetype": "text/x-python",
   "name": "python",
   "nbconvert_exporter": "python",
   "pygments_lexer": "ipython3",
   "version": "3.8.18"
  },
  "toc": {
   "base_numbering": 1,
   "nav_menu": {},
   "number_sections": true,
   "sideBar": true,
   "skip_h1_title": false,
   "title_cell": "Table of Contents",
   "title_sidebar": "Contents",
   "toc_cell": false,
   "toc_position": {},
   "toc_section_display": true,
   "toc_window_display": false
  }
 },
 "nbformat": 4,
 "nbformat_minor": 5
}
